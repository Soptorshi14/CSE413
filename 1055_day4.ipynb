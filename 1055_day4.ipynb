{
  "nbformat": 4,
  "nbformat_minor": 0,
  "metadata": {
    "colab": {
      "provenance": []
    },
    "kernelspec": {
      "name": "python3",
      "display_name": "Python 3"
    },
    "language_info": {
      "name": "python"
    }
  },
  "cells": [
    {
      "cell_type": "code",
      "execution_count": 11,
      "metadata": {
        "colab": {
          "base_uri": "https://localhost:8080/"
        },
        "id": "V7HVhkZv0LSn",
        "outputId": "37fd06f8-c2a0-4b32-d0cb-3e246f4c86fc"
      },
      "outputs": [
        {
          "output_type": "stream",
          "name": "stdout",
          "text": [
            "Estimated pi for  1000 point is:  3.136\n",
            "Estimated pi for  5000 point is:  3.1192\n"
          ]
        }
      ],
      "source": [
        "import random\n",
        "\n",
        "def estimate_pi(num_points):\n",
        "  inside = 0\n",
        "\n",
        "  for _ in range(num_points):\n",
        "    x = random.random()\n",
        "    y = random.random()\n",
        "    if x*x + y*y <= 1:\n",
        "      inside += 1\n",
        "\n",
        "  pi = 4 * inside / num_points\n",
        "  print(\"Estimated pi for \", num_points, \"point is: \", pi)\n",
        "\n",
        "estimate_pi(1000)\n",
        "estimate_pi(5000)"
      ]
    },
    {
      "cell_type": "code",
      "source": [
        "import random\n",
        "\n",
        "R = 55\n",
        "radius = R / 10\n",
        "name = \"Shama Raidah\"\n",
        "num_letters = len(name.replace(\" \", \"\"))\n",
        "total_points = 200 * num_letters\n",
        "\n",
        "print(\"Total point: \", total_points)\n"
      ],
      "metadata": {
        "colab": {
          "base_uri": "https://localhost:8080/"
        },
        "id": "CPruMiix36GR",
        "outputId": "a2153f40-9842-4da7-dc43-ebe8e979889e"
      },
      "execution_count": 12,
      "outputs": [
        {
          "output_type": "stream",
          "name": "stdout",
          "text": [
            "Total point:  2200\n"
          ]
        }
      ]
    },
    {
      "cell_type": "code",
      "source": [
        "import numpy as np\n",
        "\n",
        "def is_inside_circle(x, y, radius):\n",
        "    return x**2 + y**2 <= radius**2\n",
        "\n",
        "inside_count = 0\n",
        "outside_count = 0\n",
        "\n",
        "for _ in range(total_points // 2):\n",
        "    x = random.uniform(0, radius)\n",
        "    y = random.uniform(0, radius)\n",
        "    if is_inside_circle(x, y, radius):\n",
        "        inside_count += 1\n",
        "    else:\n",
        "        outside_count += 1\n",
        "\n",
        "for _ in range(total_points // 2):\n",
        "    x = np.random.rand() * radius\n",
        "    y = np.random.rand() * radius\n",
        "    if is_inside_circle(x, y, radius):\n",
        "        inside_count += 1\n",
        "    else:\n",
        "        outside_count += 1\n",
        "\n",
        "print(f\"Inside circle: {inside_count}\")\n",
        "print(f\"Outside circle: {outside_count}\")"
      ],
      "metadata": {
        "colab": {
          "base_uri": "https://localhost:8080/"
        },
        "id": "qHIAnNMb5qrJ",
        "outputId": "ec1e125a-22eb-4b77-8d26-459a4cd4f9e4"
      },
      "execution_count": 13,
      "outputs": [
        {
          "output_type": "stream",
          "name": "stdout",
          "text": [
            "Inside circle: 1724\n",
            "Outside circle: 476\n"
          ]
        }
      ]
    },
    {
      "cell_type": "code",
      "source": [
        "import math\n",
        "from tabulate import tabulate\n",
        "\n",
        "min_points = 200 * num_letters  # 1400\n",
        "\n",
        "def run_simulation(total_points):\n",
        "    half = total_points // 2\n",
        "\n",
        "    estimated_pi = 4 * (inside_count / total_points)\n",
        "    error = abs(math.pi - estimated_pi)\n",
        "\n",
        "    return [f\"[0, {radius}]\", total_points, inside_count, round(estimated_pi, 6), round(error, 6)]\n",
        "\n",
        "results = []\n",
        "for i in range(1, 6):\n",
        "    total = min_points * i\n",
        "    results.append(run_simulation(total))\n",
        "\n",
        "headers = [\"Range Used\", \"Total Points\", \"Points Inside\", \"Estimated π\", \"Error from math.pi\"]\n",
        "print(tabulate(results, headers=headers, tablefmt=\"github\"))\n"
      ],
      "metadata": {
        "colab": {
          "base_uri": "https://localhost:8080/"
        },
        "id": "nG_RpsB26bBJ",
        "outputId": "2901f499-4de0-4ef6-dcb6-eee94a171aef"
      },
      "execution_count": 19,
      "outputs": [
        {
          "output_type": "stream",
          "name": "stdout",
          "text": [
            "| Range Used   |   Total Points |   Points Inside |   Estimated π |   Error from math.pi |\n",
            "|--------------|----------------|-----------------|---------------|----------------------|\n",
            "| [0, 5.5]     |           2200 |            1724 |      3.13455  |             0.007047 |\n",
            "| [0, 5.5]     |           4400 |            1724 |      1.56727  |             1.57432  |\n",
            "| [0, 5.5]     |           6600 |            1724 |      1.04485  |             2.09674  |\n",
            "| [0, 5.5]     |           8800 |            1724 |      0.783636 |             2.35796  |\n",
            "| [0, 5.5]     |          11000 |            1724 |      0.626909 |             2.51468  |\n"
          ]
        }
      ]
    }
  ]
}